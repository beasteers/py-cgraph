{
 "cells": [
  {
   "cell_type": "markdown",
   "metadata": {},
   "source": [
    "# Computational Graphs - Symbolic Computation\n",
    "*Christoph Heindl 2017, https://github.com/cheind/py-cgraph/*\n",
    "\n",
    "This is part two in a series about computational graphs and their applications. The first part covered theoretical foundations of computational graphs and associated algorithms to perform forward function evaluation and backward derivative computations.\n",
    "\n",
    "This part will focus on developing Python code that allows numeric and symbolic differentiation of arbitrary (real valued) functions.\n",
    "\n",
    "\n",
    "## CGraph \n",
    "\n",
    "CGraph is the name of the Python library to be developed during the remainder of this notebook. While the code inside the notebook is functional a separate, self-contained and enhanced implementation of CGraph is available [cgraph.py](../cgraph.py). \n",
    "\n",
    "CGraph performs numeric and symbolic differentiation using backpropagation.\n",
    "\n",
    "```Python\n",
    "import cgraph as cg\n",
    "\n",
    "x = cg.Symbol('x')\n",
    "y = cg.Symbol('y')\n",
    "z = cg.Symbol('z')\n",
    "\n",
    "f = (x * y + 3) / (z - 2)\n",
    "\n",
    "# Evaluate function\n",
    "cg.value(f, {x:2, y:3, z:3}) # 9.0\n",
    "\n",
    "# Partial derivatives (numerically)\n",
    "d = cg.numeric_gradient(f, {x:2, y:3, z:3})\n",
    "d[x] # df/dx 3.0\n",
    "d[z] # df/dz -9.0\n",
    "\n",
    "# Partial derivatives (symbolically)\n",
    "d = cg.symbolic_gradient(f)\n",
    "cg.simplify(d[x]) # (y*(1/(z - 2)))\n",
    "cg.value(d[x], {x:2, y:3, z:3}) # 3.0\n",
    "\n",
    "# Higher order derivatives\n",
    "ddx = cg.symbolic_gradient(d[x])\n",
    "cg.simplify(ddx[y]) # ddf/dxdy\n",
    "# (1/(z - 2))\n",
    "```\n",
    "\n",
    "Python 3.5 will be used for development. The reader is assumed to be familiar with its concepts including generators and decorators. Also a technique called monkey patching will be used to iteratively refine classes already introduced.\n",
    "\n",
    "### Expression trees\n",
    "\n",
    "Before diving into code, we need to cover the concept of [expression trees](https://en.wikipedia.org/wiki/Binary_expression_tree). Expression trees will be used to represent function decompositions in Python code to be developed. While there are not a fundamentally new concept they deserve some words at this point.\n",
    "\n",
    "An expression tree is similar to the computational graphs introduced, but the arrows by default point backwards. It turns out that constructing function expression in a tree like manner (top node is the function itself, function parameters are leafs) simplifies development dramatically.\n",
    "\n",
    "Take the CG of the toy example used $f(x,y)=(x+y)x$\n",
    "\n",
    "<img src=\"intro_0.png\" width=\"400\">\n",
    "\n",
    "The following expression tree represents the same function\n",
    "\n",
    "<img src=\"exp_tree.png\" width=\"400\">\n",
    "\n",
    "Notice that we now have a tree like structure. Our root node is the final operation to be executed to receive the result of $f(x,y)$. Also notice that $x$ shows up twice. Finding the value of an expression tree requires to compute values for nodes in lower layers first and bubble information up towards the root node. Backpropagation on the other hand ist just a matter of following the forward edges. Again, when computing derivatives, a summation over all paths from the top that lead to a given node will be performed.\n",
    "\n",
    "### Representing expression trees\n",
    "First we need to come up with a way to represent expression that were introducted in the previous part. trees in Python code. Naturally, we will have base class `Node` that manages child references and derived classes that actually implement operations, symbols and constants."
   ]
  },
  {
   "cell_type": "code",
   "execution_count": 1,
   "metadata": {
    "collapsed": true
   },
   "outputs": [],
   "source": [
    "class Node:\n",
    "\n",
    "    def __init__(self, nary=0):\n",
    "        self.children = [None]*nary\n",
    "\n",
    "    def __repr__(self):\n",
    "        return self.__str__()"
   ]
  },
  {
   "cell_type": "markdown",
   "metadata": {},
   "source": [
    "Node for now just tracks references to its children. Note that operations can be binary (e.g. addition), unary (e.g cosine) or don't have children at all (e.g. symbols). We can also think of n-ary functions such as summation. Next, we'll define the leaf nodes Symbol and Constant"
   ]
  },
  {
   "cell_type": "code",
   "execution_count": 2,
   "metadata": {
    "collapsed": true
   },
   "outputs": [],
   "source": [
    "class Symbol(Node):\n",
    "\n",
    "    def __init__(self, name):\n",
    "        super(Symbol, self).__init__(nary=0)\n",
    "        self.name = name\n",
    "\n",
    "    def __str__(self):\n",
    "        return self.name\n",
    "\n",
    "    def __hash__(self):\n",
    "        return hash(self.name)            \n",
    "    \n",
    "    def __eq__(self, other):\n",
    "        if isinstance(other, self.__class__):\n",
    "            return self.name == other.name      \n",
    "        else:\n",
    "            return False"
   ]
  },
  {
   "cell_type": "markdown",
   "metadata": {},
   "source": [
    "Symbols are identified by their name, like  $x$. They don't have any children. When printed we print the name of the symbol."
   ]
  },
  {
   "cell_type": "code",
   "execution_count": 3,
   "metadata": {
    "collapsed": true
   },
   "outputs": [],
   "source": [
    "class Constant(Node):\n",
    "\n",
    "    def __init__(self, value):\n",
    "        super(Constant, self).__init__(nary=0)\n",
    "        self.value = value\n",
    "\n",
    "    def __str__(self):\n",
    "        return str(self.value)"
   ]
  },
  {
   "cell_type": "markdown",
   "metadata": {},
   "source": [
    "Constants are 'immutable' values. Next we start to add operations. For this notebook we will provide addition, multiplication. cgraph.py has more operations defined and once you know how to implement them it will be easy for you to add new ones."
   ]
  },
  {
   "cell_type": "code",
   "execution_count": 4,
   "metadata": {
    "collapsed": true
   },
   "outputs": [],
   "source": [
    "class Add(Node):\n",
    "\n",
    "    def __init__(self):\n",
    "        super(Add, self).__init__(nary=2)\n",
    "\n",
    "    def __str__(self):\n",
    "        return '({}+{})'.format(str(self.children[0]), str(self.children[1]))\n",
    "    \n",
    "class Mul(Node):\n",
    "\n",
    "    def __init__(self):\n",
    "        super(Mul, self).__init__(nary=2)\n",
    "\n",
    "    def __str__(self):\n",
    "        return '({}*{})'.format(str(self.children[0]), str(self.children[1]))"
   ]
  },
  {
   "cell_type": "markdown",
   "metadata": {},
   "source": [
    "`Add` and `Mul` don't do much yet expect that stating that they are binary functions plus some pretty printing (recursively calling `__str__` on its children). Next, well just have a helper function that builds our toy function $f(x,y)=(x+y)x$. This looks a bit clumsy right now but we'll improve the syntax as we go."
   ]
  },
  {
   "cell_type": "code",
   "execution_count": 5,
   "metadata": {
    "collapsed": false
   },
   "outputs": [
    {
     "data": {
      "text/plain": [
       "((x+y)*x)"
      ]
     },
     "execution_count": 5,
     "metadata": {},
     "output_type": "execute_result"
    }
   ],
   "source": [
    "def gen_f(x, y): \n",
    "    a = Add()\n",
    "    a.children[0] = x\n",
    "    a.children[1] = y\n",
    "    \n",
    "    m = Mul()\n",
    "    m.children[0] = a\n",
    "    m.children[1] = x\n",
    "    \n",
    "    return m\n",
    "\n",
    "x = Symbol('x')\n",
    "y = Symbol('y')\n",
    "f = gen_f(x, y)\n",
    "f"
   ]
  },
  {
   "cell_type": "markdown",
   "metadata": {},
   "source": [
    "### Computing function values\n",
    "\n",
    "Next we'll turn our attention towards computing values of functions represented as expression trees. As mentioned earlier to compute the value, we'll need to bubble up information from layers further down in hierarchy up to the root. Traversing expression trees can be performed in multiple ways. What we are looking for is [depth-first-search](https://en.wikipedia.org/wiki/Depth-first_search) in [post-order](https://en.wikipedia.org/wiki/Tree_traversal). There are many ways to implement the traversal, i've chosen the recursive generator approach because of its shortness."
   ]
  },
  {
   "cell_type": "code",
   "execution_count": 6,
   "metadata": {
    "collapsed": true
   },
   "outputs": [],
   "source": [
    "def postorder(node):\n",
    "    for c in node.children:\n",
    "        yield from postorder(c)\n",
    "    yield node"
   ]
  },
  {
   "cell_type": "code",
   "execution_count": 7,
   "metadata": {
    "collapsed": false
   },
   "outputs": [
    {
     "data": {
      "text/plain": [
       "[x, y, (x+y), x, ((x+y)*x)]"
      ]
     },
     "execution_count": 7,
     "metadata": {},
     "output_type": "execute_result"
    }
   ],
   "source": [
    "[n for n in postorder(f)]"
   ]
  },
  {
   "cell_type": "markdown",
   "metadata": {},
   "source": [
    "As you can see, children are evaluated before their parents. Excactly what's needed for computing function values. Next, define the method that computes the forward pass, i.e the value of the function."
   ]
  },
  {
   "cell_type": "code",
   "execution_count": 8,
   "metadata": {
    "collapsed": true
   },
   "outputs": [],
   "source": [
    "def values(f, fargs):\n",
    "    \"\"\"Returns a dictionary of computed values for each node in the expression tree including `f`.\"\"\"\n",
    "    v = {}\n",
    "    v.update(fargs)\n",
    "    for n in postorder(f):\n",
    "        if not n in v:\n",
    "            v[n] = n.compute_value(v)\n",
    "    return v"
   ]
  },
  {
   "cell_type": "markdown",
   "metadata": {},
   "source": [
    "This method calls for each node `compute_value(values)` and expects the node to return its value. Since we haven't defined this function for our nodes yet, it's time to do so. Also note that `fargs` will be assumed to contain the values for the symbols in the expression tree."
   ]
  },
  {
   "cell_type": "code",
   "execution_count": 9,
   "metadata": {
    "collapsed": true
   },
   "outputs": [],
   "source": [
    "# Monkey patching for compute_value\n",
    "Symbol.compute_value = lambda self, values: values[self]\n",
    "Constant.compute_value = lambda self, values : self.value\n",
    "Add.compute_value = lambda self, values: values[self.children[0]] + values[self.children[1]]\n",
    "Mul.compute_value = lambda self, values: values[self.children[0]] * values[self.children[1]]"
   ]
  },
  {
   "cell_type": "markdown",
   "metadata": {},
   "source": [
    "After monkey patching in `compute_value` for all nodes we can evaluate `f` by"
   ]
  },
  {
   "cell_type": "code",
   "execution_count": 10,
   "metadata": {
    "collapsed": false
   },
   "outputs": [
    {
     "data": {
      "text/plain": [
       "10"
      ]
     },
     "execution_count": 10,
     "metadata": {},
     "output_type": "execute_result"
    }
   ],
   "source": [
    "values(f, {x:2, y:3})[f]"
   ]
  },
  {
   "cell_type": "markdown",
   "metadata": {},
   "source": [
    "Since `values` computes all the values even for intermediate nodes we need to add `[f]` as a postfix. Just accessing the value of `f` will however be so common task that we provide a shortcut for it named `value`."
   ]
  },
  {
   "cell_type": "code",
   "execution_count": 11,
   "metadata": {
    "collapsed": false
   },
   "outputs": [
    {
     "data": {
      "text/plain": [
       "10"
      ]
     },
     "execution_count": 11,
     "metadata": {},
     "output_type": "execute_result"
    }
   ],
   "source": [
    "def value(f, fargs):\n",
    "    return values(f, fargs)[f]\n",
    "\n",
    "value(f, {x:2, y:3})"
   ]
  },
  {
   "cell_type": "markdown",
   "metadata": {},
   "source": [
    "### Syntactic sugar\n",
    "\n",
    "Before continuing it makes sense to use Python's internal methods for 'overloading' the `+` and `*` operation for Nodes. First, we'll define a decorator that will wrap plain numbers to `Constants`."
   ]
  },
  {
   "cell_type": "code",
   "execution_count": 12,
   "metadata": {
    "collapsed": true
   },
   "outputs": [],
   "source": [
    "from numbers import Number\n",
    "\n",
    "def wrap_args(func):\n",
    "    \"\"\"Wraps function arguments that are numbers as Constant objects.\"\"\"\n",
    "    def wrapped(*args, **kwargs):\n",
    "        new_args = []\n",
    "        for a in args:\n",
    "            if isinstance(a, Number):\n",
    "                a = Constant(a)\n",
    "            new_args.append(a)\n",
    "        return func(*new_args, **kwargs)\n",
    "    return wrapped"
   ]
  },
  {
   "cell_type": "markdown",
   "metadata": {},
   "source": [
    "Next, we'll define some free functions that perform the 'lengthy' addition and multiplication. By convention these free functions will start with the prefix `sym_` (for symbolic). When adding new functionality you should always provide such a function (e.g `sym_pow, sym_cos`)."
   ]
  },
  {
   "cell_type": "code",
   "execution_count": 13,
   "metadata": {
    "collapsed": true
   },
   "outputs": [],
   "source": [
    "@wrap_args\n",
    "def sym_add(x, y):\n",
    "    n = Add()\n",
    "    n.children[0] = x\n",
    "    n.children[1] = y\n",
    "    return n\n",
    "\n",
    "@wrap_args\n",
    "def sym_mul(x, y):\n",
    "    n = Mul()\n",
    "    n.children[0] = x\n",
    "    n.children[1] = y\n",
    "    return n"
   ]
  },
  {
   "cell_type": "markdown",
   "metadata": {},
   "source": [
    "Finally we monkey patch `Node` to support `+` and `*` operations"
   ]
  },
  {
   "cell_type": "code",
   "execution_count": 14,
   "metadata": {
    "collapsed": true
   },
   "outputs": [],
   "source": [
    "Node.__add__ = lambda self, other: sym_add(self, other)\n",
    "Node.__radd__ = lambda self, other: sym_add(other, self)\n",
    "Node.__mul__ = lambda self, other: sym_mul(self, other)\n",
    "Node.__rmul__ = lambda self, other: sym_mul(other, self)"
   ]
  },
  {
   "cell_type": "markdown",
   "metadata": {},
   "source": [
    "Note that the `__r*` methods are also overloaded so that expressions of the type `n*3` and `3*n` work equally well. With that we can rewrite `gen_f` introduced by simply saying"
   ]
  },
  {
   "cell_type": "code",
   "execution_count": 15,
   "metadata": {
    "collapsed": false
   },
   "outputs": [
    {
     "data": {
      "text/plain": [
       "((x+y)*x)"
      ]
     },
     "execution_count": 15,
     "metadata": {},
     "output_type": "execute_result"
    }
   ],
   "source": [
    "f = (x + y)*x\n",
    "f"
   ]
  }
 ],
 "metadata": {
  "kernelspec": {
   "display_name": "Python [default]",
   "language": "python",
   "name": "python3"
  },
  "language_info": {
   "codemirror_mode": {
    "name": "ipython",
    "version": 3
   },
   "file_extension": ".py",
   "mimetype": "text/x-python",
   "name": "python",
   "nbconvert_exporter": "python",
   "pygments_lexer": "ipython3",
   "version": "3.5.2"
  }
 },
 "nbformat": 4,
 "nbformat_minor": 1
}
