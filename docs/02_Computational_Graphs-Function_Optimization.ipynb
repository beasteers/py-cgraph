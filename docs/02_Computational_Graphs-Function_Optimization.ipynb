{
 "cells": [
  {
   "cell_type": "markdown",
   "metadata": {},
   "source": [
    "# Computational Graphs - Function Optimization\n",
    "*Christoph Heindl 2017, https://github.com/cheind/py-cgraph/*\n",
    "\n",
    "This is part three in series about computational graphs and their applications. In the previous parts the fundamental concepts were covered. We also introduced a library called CGraph to perform symbolic computation in Python.\n",
    "\n",
    "This part is about putting CGraph into practice. It deals with function optimization in which derivatives are required to determine stationary points.\n",
    "\n",
    "## Function optimization\n",
    "\n",
    "Now with all the puzzle-pieces in place and a working symbolic computation engine (at least for computing derivatives) at hand, we will apply it to function optimization. In particular, we will be dealing with least squares problems in which the residuals are linear, though nothing prevents you from applying it to other non-linear problems.\n",
    "\n",
    "Our secenario is as follows: Given a set of noisy two-dimensional points fit a straight line. Everyone whose done ordinary linear least square regression knows that there is a 'closed-form' solution to the problem that involves nothing but a couple of matrix multiplications and an inversion. However, here we shall use the best-fit solution only as reference and concentrate more on gradient descent methods that are also the driving horses for training neural networks.\n",
    "\n",
    "For the time being, we'll be using [cgraph.py](../cgraph.py) directly, as it contains operations that we haven't implemented yet in the previois part. The complete example can be found exercised here is also available as a separate [example_optimize.py](../example_optimize.py) file."
   ]
  },
  {
   "cell_type": "code",
   "execution_count": 27,
   "metadata": {
    "collapsed": false
   },
   "outputs": [],
   "source": [
    "import sys\n",
    "sys.path.append('..')\n",
    "import cgraph as cg"
   ]
  },
  {
   "cell_type": "markdown",
   "metadata": {},
   "source": [
    "First, we define a function that generates a set of noisy points along an ideal line parametrized by $y = w_0*x+w_1$"
   ]
  },
  {
   "cell_type": "code",
   "execution_count": 28,
   "metadata": {
    "collapsed": true
   },
   "outputs": [],
   "source": [
    "import numpy as np\n",
    "import matplotlib.pyplot as plt\n",
    "\n",
    "def generate_points(n, k, d):\n",
    "    x = np.linspace(0, 10, n)\n",
    "    y = x * k + d + np.random.normal(scale=0.15, size=n)\n",
    "    return np.vstack((x,y))\n",
    "\n",
    "# Parameters of ideal line\n",
    "k = 0.8\n",
    "d = 2.0\n",
    "\n",
    "samples = generate_points(20, k, d)"
   ]
  },
  {
   "cell_type": "markdown",
   "metadata": {},
   "source": [
    "Let's plot the samples"
   ]
  },
  {
   "cell_type": "code",
   "execution_count": 29,
   "metadata": {
    "collapsed": false
   },
   "outputs": [
    {
     "data": {
      "image/png": "[encoded data removed]",
      "text/plain": [
       "<matplotlib.figure.Figure at 0x2207d35a630>"
      ]
     },
     "metadata": {},
     "output_type": "display_data"
    }
   ],
   "source": [
    "plt.scatter(samples[0,:], samples[1,:])\n",
    "plt.show()"
   ]
  },
  {
   "cell_type": "markdown",
   "metadata": {},
   "source": [
    "Next, we define the objective function to be minimized\n",
    "\n",
    "$$f(w_0,w_1;x_0..x_n, y_0..y_n) = \\sum_i^n{(w_0*x_i + w_1 - y_i)^2}$$\n",
    "\n",
    "with respect to the unknown parameters $w_0$ and $w_1$.\n",
    "\n",
    "We are searching for a minimum of the sum of squared residuals between a line parametrized by $w_0$, $w_1$ and the samples given. Note that the error is measured along the y-axis (called the algebraic distance). In case you are interested see [ordinary-least-squares](https://en.wikipedia.org/wiki/Ordinary_least_squares).\n",
    "\n",
    "It is straight forward to represent $f$ in `CGraph`"
   ]
  },
  {
   "cell_type": "code",
   "execution_count": 30,
   "metadata": {
    "collapsed": false
   },
   "outputs": [],
   "source": [
    "def sum_residuals_squared(w0, w1, xy):\n",
    "    n = xy.shape[1]\n",
    "    residuals = []\n",
    "    for i in range(n):\n",
    "        r = w0 * xy[0,i] + w1 - xy[1,i]\n",
    "        residuals.append(r**2)\n",
    "\n",
    "    return cg.sym_sum(residuals) / n\n",
    "\n",
    "w0 = cg.Symbol('w0')\n",
    "w1 = cg.Symbol('w1')\n",
    "\n",
    "f = sum_residuals_squared(w0, w1, samples)"
   ]
  },
  {
   "cell_type": "markdown",
   "metadata": {},
   "source": [
    "Note the `/n` is a normalizing constant. It is optional and does not the change the minimum. Its purpose is to make the gradient lengths independent of the number of point samples used.\n",
    "\n",
    "The expression tree associated with `f` is given by"
   ]
  },
  {
   "cell_type": "code",
   "execution_count": 31,
   "metadata": {
    "collapsed": false
   },
   "outputs": [
    {
     "data": {
      "text/plain": [
       "(((((w0*0.0) + w1) - 1.87844664609)**2 + (((w0*0.526315789474) + w1) - 2.51880560332)**2 + (((w0*1.05263157895) + w1) - 2.86449888595)**2 + (((w0*1.57894736842) + w1) - 3.41076878739)**2 + (((w0*2.10526315789) + w1) - 3.52986582632)**2 + (((w0*2.63157894737) + w1) - 4.01887166288)**2 + (((w0*3.15789473684) + w1) - 4.79322251445)**2 + (((w0*3.68421052632) + w1) - 4.84444761155)**2 + (((w0*4.21052631579) + w1) - 5.32774168009)**2 + (((w0*4.73684210526) + w1) - 5.50107461639)**2 + (((w0*5.26315789474) + w1) - 6.16253244364)**2 + (((w0*5.78947368421) + w1) - 6.57791808208)**2 + (((w0*6.31578947368) + w1) - 7.15284867683)**2 + (((w0*6.84210526316) + w1) - 7.53167886286)**2 + (((w0*7.36842105263) + w1) - 7.85271934876)**2 + (((w0*7.89473684211) + w1) - 8.24762080063)**2 + (((w0*8.42105263158) + w1) - 9.11981155957)**2 + (((w0*8.94736842105) + w1) - 9.15377533963)**2 + (((w0*9.47368421053) + w1) - 9.50395091851)**2 + (((w0*10.0) + w1) - 9.92225435499)**2)/20)"
      ]
     },
     "execution_count": 31,
     "metadata": {},
     "output_type": "execute_result"
    }
   ],
   "source": [
    "f"
   ]
  },
  {
   "cell_type": "markdown",
   "metadata": {},
   "source": [
    "What's given below is the reference implementation of an ordinary least squares regression. We will be using this as a reference for comparison with other implementations."
   ]
  },
  {
   "cell_type": "code",
   "execution_count": 32,
   "metadata": {
    "collapsed": false
   },
   "outputs": [
    {
     "data": {
      "image/png": "[encoded data removed]",
      "text/plain": [
       "<matplotlib.figure.Figure at 0x2207c2b6860>"
      ]
     },
     "metadata": {},
     "output_type": "display_data"
    }
   ],
   "source": [
    "def least_squares_fit(xy):\n",
    "    \"\"\"Returns the line parameters through ordinary least squares regression.\"\"\"\n",
    "\n",
    "    A = np.ones((xy.shape[1], 2))    \n",
    "    A[:,0] = xy[0,:].T\n",
    "    b = xy[1,:].T\n",
    "\n",
    "    return np.dot(np.dot(np.linalg.inv(np.dot(A.T,A)), A.T), b)\n",
    "\n",
    "s_fit = least_squares_fit(samples)\n",
    "\n",
    "plt.plot([0, 10], [0*s_fit[0]+s_fit[1], 10*s_fit[0]+s_fit[1]], color='r', linestyle='-', label='Least Squares')\n",
    "plt.scatter(samples[0,:], samples[1,:])\n",
    "plt.show()"
   ]
  },
  {
   "cell_type": "markdown",
   "metadata": {},
   "source": [
    "### Steepest descent\n",
    "\n",
    "[Steepest descent](https://en.wikipedia.org/wiki/Method_of_steepest_descent) is an iterative optimization method that, given an initial guess, finds a better guess by taking a step in the direction of the negative gradient. Once the norm of the gradient is sufficiently close to zero, one claims to have found a stationary point (local minimum).\n",
    "\n",
    "This method is of first-order as it requires only first order derivatives. With CGraph it can be implemented in the following way."
   ]
  },
  {
   "cell_type": "code",
   "execution_count": 33,
   "metadata": {
    "collapsed": true
   },
   "outputs": [],
   "source": [
    "def steepest_descent(f, w0, w1, guess, verbose=True):    \n",
    "    lam = 0.02\n",
    "\n",
    "    for i in range(200):   \n",
    "        df = cg.numeric_gradient(f, guess)\n",
    "\n",
    "        guess[w0] -= lam * df[w0]\n",
    "        guess[w1] -= lam * df[w1]\n",
    "\n",
    "    if verbose:\n",
    "        print('Steepest descent solution {}, {}'.format(guess[w0], guess[w1]))\n",
    "        print('Error {}'.format(cg.value(f, guess)))\n",
    "\n",
    "    return guess"
   ]
  },
  {
   "cell_type": "markdown",
   "metadata": {},
   "source": [
    "In each iteration the method takes a scaled step (by `lam`) in the direction of the negative gradient. Let's see how well it converges."
   ]
  },
  {
   "cell_type": "code",
   "execution_count": 34,
   "metadata": {
    "collapsed": false
   },
   "outputs": [
    {
     "name": "stdout",
     "output_type": "stream",
     "text": [
      "Steepest descent solution 0.8166433702612667, 1.8868868162258843\n",
      "Error 0.02385376514247421\n"
     ]
    },
    {
     "data": {
      "image/png": "[encoded data removed]",
      "text/plain": [
       "<matplotlib.figure.Figure at 0x2207c1936d8>"
      ]
     },
     "metadata": {},
     "output_type": "display_data"
    }
   ],
   "source": [
    "s_sd = steepest_descent(f, w0, w1, {w0: 0.4, w1: 1.1})\n",
    "\n",
    "plt.plot([0, 10], [0*s_fit[0]+s_fit[1], 10*s_fit[0]+s_fit[1]], color='r', linestyle='-', label='Least Squares')\n",
    "plt.plot([0, 10], [0*s_sd[w0]+s_sd[w1], 10*s_sd[w0]+s_sd[w1]], color='b', linestyle='-', label='Steepest Descent')\n",
    "plt.scatter(samples[0,:], samples[1,:])\n",
    "plt.legend()\n",
    "plt.show()"
   ]
  },
  {
   "cell_type": "markdown",
   "metadata": {},
   "source": [
    "Not quite, but also not far off from the reference. Variations of the steepest descent are the tools of the trade to train neural networks."
   ]
  },
  {
   "cell_type": "markdown",
   "metadata": {},
   "source": [
    "## Newton's method for function optimization\n",
    "\n",
    "Next up is [Newton's method](https://en.wikipedia.org/wiki/Newton's_method_in_optimization), which frees us from a fixed step size when descenting. It comes at the cost that we need to compute second order derivatives. Although it is an iterative approach, Newton's method will take just one step for our problem setting. This is due to the fact that our object function has exactly the shape that Newton's method is approximating in each step."
   ]
  },
  {
   "cell_type": "code",
   "execution_count": 35,
   "metadata": {
    "collapsed": true
   },
   "outputs": [],
   "source": [
    "def newton_descent(f, w0, w1, guess, verbose=True, simplify=False):\n",
    "    d1 = cg.symbolic_gradient(f)        # gives df/dw0, df/dw1\n",
    "    d2w0 = cg.symbolic_gradient(d1[w0]) # gives ddf/dw0dw0, ddf/dw0dw1,\n",
    "    d2w1 = cg.symbolic_gradient(d1[w1]) # gives ddf/dw1dw1, ddf/dw1dw0,\n",
    "\n",
    "    if simplify:\n",
    "        d2w0 = cg.simplify_all(d2w0)\n",
    "        d2w1 = cg.simplify_all(d2w1)\n",
    "    \n",
    "    def nhessian(guess):\n",
    "        h = np.zeros((2,2)) \n",
    "        h[0,0] = cg.value(d2w0[w0], guess)\n",
    "        h[0,1] = cg.value(d2w0[w1], guess)\n",
    "        h[1,0] = cg.value(d2w1[w0], guess) # Hessian is symmetric, could reuse h[0,1]\n",
    "        h[1,1] = cg.value(d2w1[w1], guess)\n",
    "        return h\n",
    "\n",
    "    def ngrad(guess):\n",
    "        g = np.zeros((2,1))\n",
    "        g[0, 0] = cg.value(d1[w0], guess)\n",
    "        g[1, 0] = cg.value(d1[w1], guess)\n",
    "        return g\n",
    "\n",
    "    # Single step is enough, since our objective function is of quadric shape.\n",
    "    step = np.linalg.inv(nhessian(guess)).dot(ngrad(guess))\n",
    "    guess[w0] -= step[0,0]\n",
    "    guess[w1] -= step[1,0]\n",
    "\n",
    "    if verbose:\n",
    "        print('Newton solution {}, {}'.format(guess[w0], guess[w1]))\n",
    "        print('Error {}'.format(cg.value(f, guess)))\n",
    "\n",
    "    return guess"
   ]
  },
  {
   "cell_type": "code",
   "execution_count": 36,
   "metadata": {
    "collapsed": false
   },
   "outputs": [
    {
     "name": "stdout",
     "output_type": "stream",
     "text": [
      "Newton solution 0.8023709147993857, 1.9837881370988328\n",
      "Error 0.021325310693202586\n"
     ]
    },
    {
     "data": {
      "image/png": "[encoded data removed]",
      "text/plain": [
       "<matplotlib.figure.Figure at 0x22079a5def0>"
      ]
     },
     "metadata": {},
     "output_type": "display_data"
    }
   ],
   "source": [
    "s_sn = newton_descent(f, w0, w1, {w0: 0.4, w1: 1.1})\n",
    "\n",
    "plt.plot([0, 10], [0*s_fit[0]+s_fit[1], 10*s_fit[0]+s_fit[1]], color='r', linestyle='-', label='Least Squares')\n",
    "plt.plot([0, 10], [0*s_sn[w0]+s_sn[w1], 10*s_sn[w0]+s_sn[w1]], color='b', linestyle='-', label='Newton Descent')\n",
    "plt.scatter(samples[0,:], samples[1,:])\n",
    "plt.legend()\n",
    "plt.show()"
   ]
  },
  {
   "cell_type": "markdown",
   "metadata": {},
   "source": [
    "Good match there. What about performance?"
   ]
  },
  {
   "cell_type": "code",
   "execution_count": 37,
   "metadata": {
    "collapsed": false
   },
   "outputs": [
    {
     "name": "stdout",
     "output_type": "stream",
     "text": [
      "10 loops, best of 3: 22.1 ms per loop\n"
     ]
    }
   ],
   "source": [
    "%timeit newton_descent(f, w0, w1, {w0: 0.4, w1: 1.1}, verbose=False)"
   ]
  },
  {
   "cell_type": "code",
   "execution_count": 38,
   "metadata": {
    "collapsed": false
   },
   "outputs": [
    {
     "name": "stdout",
     "output_type": "stream",
     "text": [
      "10 loops, best of 3: 103 ms per loop\n"
     ]
    }
   ],
   "source": [
    "%timeit steepest_descent(f, w0, w1, {w0: 0.4, w1: 1.1}, verbose=False)"
   ]
  },
  {
   "cell_type": "markdown",
   "metadata": {},
   "source": [
    "A single step in the Newton descent is much more costly than a single iteration inside the steepest descent method. Newton's method requires us to compute second order derivatives which is computationally more expensive than going with first order derivates. Still Newton's method requires just a single step and thus converges faster than steepest descent."
   ]
  }
 ],
 "metadata": {
  "anaconda-cloud": {},
  "kernelspec": {
   "display_name": "Python [conda root]",
   "language": "python",
   "name": "conda-root-py"
  },
  "language_info": {
   "codemirror_mode": {
    "name": "ipython",
    "version": 3
   },
   "file_extension": ".py",
   "mimetype": "text/x-python",
   "name": "python",
   "nbconvert_exporter": "python",
   "pygments_lexer": "ipython3",
   "version": "3.5.2"
  },
  "latex_metadata": {
   "author": "Christoph Heindl",
   "title": "Computational Graphs"
  }
 },
 "nbformat": 4,
 "nbformat_minor": 1
}
