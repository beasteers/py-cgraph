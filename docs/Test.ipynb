{
 "cells": [
  {
   "cell_type": "markdown",
   "metadata": {},
   "source": [
    "![](intro_0.png)"
   ]
  },
  {
   "cell_type": "code",
   "execution_count": 2,
   "metadata": {
    "collapsed": true
   },
   "outputs": [],
   "source": [
    "class Node:\n",
    "\n",
    "    def __init__(self, nary=0):\n",
    "        self.children = [None]*nary\n",
    "\n",
    "    def __repr__(self):\n",
    "        return self.__str__()"
   ]
  },
  {
   "cell_type": "code",
   "execution_count": 3,
   "metadata": {
    "collapsed": true
   },
   "outputs": [],
   "source": [
    "class Symbol(Node):\n",
    "\n",
    "    def __init__(self, name):\n",
    "        super(Symbol, self).__init__(nary=0)\n",
    "        self.name = name\n",
    "\n",
    "    def __str__(self):\n",
    "        return self.name\n",
    "\n",
    "    def __hash__(self):\n",
    "        return hash(self.name)            \n",
    "    \n",
    "    def __eq__(self, other):\n",
    "        if isinstance(other, self.__class__):\n",
    "            return self.name == other.name      \n",
    "        else:\n",
    "            return False"
   ]
  },
  {
   "cell_type": "code",
   "execution_count": 5,
   "metadata": {
    "collapsed": true
   },
   "outputs": [],
   "source": [
    "class Constant(Node):\n",
    "\n",
    "    def __init__(self, value):\n",
    "        super(Constant, self).__init__(nary=0)\n",
    "        self.value = value\n",
    "\n",
    "    def __str__(self):\n",
    "        return str(self.value)"
   ]
  },
  {
   "cell_type": "code",
   "execution_count": 6,
   "metadata": {
    "collapsed": true
   },
   "outputs": [],
   "source": [
    "class Add(Node):\n",
    "\n",
    "    def __init__(self):\n",
    "        super(Add, self).__init__(nary=2)\n",
    "\n",
    "    def __str__(self):\n",
    "        return '({}+{})'.format(str(self.children[0]), str(self.children[1]))\n",
    "    \n",
    "class Mul(Node):\n",
    "\n",
    "    def __init__(self):\n",
    "        super(Mul, self).__init__(nary=2)\n",
    "\n",
    "    def __str__(self):\n",
    "        return '({}*{})'.format(str(self.children[0]), str(self.children[1]))"
   ]
  },
  {
   "cell_type": "code",
   "execution_count": 7,
   "metadata": {
    "collapsed": false
   },
   "outputs": [
    {
     "data": {
      "text/plain": [
       "((x+y)*x)"
      ]
     },
     "execution_count": 7,
     "metadata": {},
     "output_type": "execute_result"
    }
   ],
   "source": [
    "def gen_f(x, y): \n",
    "    a = Add()\n",
    "    a.children[0] = x\n",
    "    a.children[1] = y\n",
    "    \n",
    "    m = Mul()\n",
    "    m.children[0] = a\n",
    "    m.children[1] = x\n",
    "    \n",
    "    return m\n",
    "\n",
    "x = Symbol('x')\n",
    "y = Symbol('y')\n",
    "f = gen_f(x, y)\n",
    "f"
   ]
  },
  {
   "cell_type": "code",
   "execution_count": 9,
   "metadata": {
    "collapsed": true
   },
   "outputs": [],
   "source": [
    "def postorder(node):\n",
    "    for c in node.children:\n",
    "        yield from postorder(c)\n",
    "    yield node"
   ]
  },
  {
   "cell_type": "code",
   "execution_count": 10,
   "metadata": {
    "collapsed": false
   },
   "outputs": [
    {
     "data": {
      "text/plain": [
       "[x, y, (x+y), x, ((x+y)*x)]"
      ]
     },
     "execution_count": 10,
     "metadata": {},
     "output_type": "execute_result"
    }
   ],
   "source": [
    "[n for n in postorder(f)]"
   ]
  },
  {
   "cell_type": "code",
   "execution_count": null,
   "metadata": {
    "collapsed": true
   },
   "outputs": [],
   "source": []
  },
  {
   "cell_type": "code",
   "execution_count": 11,
   "metadata": {
    "collapsed": true
   },
   "outputs": [],
   "source": [
    "def values(f, fargs):\n",
    "    \"\"\"Returns a dictionary of computed values for each node in the expression tree including `f`.\"\"\"\n",
    "    v = {}\n",
    "    v.update(fargs)\n",
    "    for n in postorder(f):\n",
    "        if not n in v:\n",
    "            v[n] = n.compute_value(v)\n",
    "    return v"
   ]
  },
  {
   "cell_type": "code",
   "execution_count": 13,
   "metadata": {
    "collapsed": true
   },
   "outputs": [],
   "source": [
    "Symbol.compute_value = lambda self, values: values[self]\n",
    "Constant.compute_value = lambda self, values : self.value\n",
    "Add.compute_value = lambda self, values: values[self.children[0]] + values[self.children[1]]\n",
    "Mul.compute_value = lambda self, values: values[self.children[0]] * values[self.children[1]]"
   ]
  },
  {
   "cell_type": "code",
   "execution_count": 14,
   "metadata": {
    "collapsed": false
   },
   "outputs": [
    {
     "data": {
      "text/plain": [
       "10"
      ]
     },
     "execution_count": 14,
     "metadata": {},
     "output_type": "execute_result"
    }
   ],
   "source": [
    "values(f, {x:2, y:3})[f]"
   ]
  },
  {
   "cell_type": "code",
   "execution_count": 15,
   "metadata": {
    "collapsed": false
   },
   "outputs": [
    {
     "data": {
      "text/plain": [
       "10"
      ]
     },
     "execution_count": 15,
     "metadata": {},
     "output_type": "execute_result"
    }
   ],
   "source": [
    "def value(f, fargs):\n",
    "    return values(f, fargs)[f]\n",
    "\n",
    "value(f, {x:2, y:3})"
   ]
  },
  {
   "cell_type": "code",
   "execution_count": 16,
   "metadata": {
    "collapsed": true
   },
   "outputs": [],
   "source": [
    "from numbers import Number\n",
    "\n",
    "def wrap_args(func):\n",
    "    \"\"\"Wraps function arguments that are numbers as Constant objects.\"\"\"\n",
    "    def wrapped(*args, **kwargs):\n",
    "        new_args = []\n",
    "        for a in args:\n",
    "            if isinstance(a, Number):\n",
    "                a = Constant(a)\n",
    "            new_args.append(a)\n",
    "        return func(*new_args, **kwargs)\n",
    "    return wrapped"
   ]
  },
  {
   "cell_type": "code",
   "execution_count": 18,
   "metadata": {
    "collapsed": true
   },
   "outputs": [],
   "source": [
    "@wrap_args\n",
    "def sym_add(x, y):\n",
    "    n = Add()\n",
    "    n.children[0] = x\n",
    "    n.children[1] = y\n",
    "    return n\n",
    "\n",
    "@wrap_args\n",
    "def sym_mul(x, y):\n",
    "    n = Mul()\n",
    "    n.children[0] = x\n",
    "    n.children[1] = y\n",
    "    return n"
   ]
  },
  {
   "cell_type": "code",
   "execution_count": 19,
   "metadata": {
    "collapsed": true
   },
   "outputs": [],
   "source": [
    "Node.__add__ = lambda self, other: sym_add(self, other)\n",
    "Node.__radd__ = lambda self, other: sym_add(other, self)\n",
    "Node.__mul__ = lambda self, other: sym_mul(self, other)\n",
    "Node.__rmul__ = lambda self, other: sym_mul(other, self)"
   ]
  },
  {
   "cell_type": "code",
   "execution_count": 20,
   "metadata": {
    "collapsed": false
   },
   "outputs": [
    {
     "data": {
      "text/plain": [
       "((x+y)*x)"
      ]
     },
     "execution_count": 20,
     "metadata": {},
     "output_type": "execute_result"
    }
   ],
   "source": [
    "f = (x + y)*x\n",
    "f"
   ]
  },
  {
   "cell_type": "code",
   "execution_count": 21,
   "metadata": {
    "collapsed": true
   },
   "outputs": [],
   "source": [
    "def bfs(node, node_data):\n",
    "    q = [(node, node_data)]\n",
    "    while q:\n",
    "        t = q.pop(0)\n",
    "        node_data = yield t\n",
    "        for idx, c in enumerate(t[0].children):\n",
    "            q.append((c, node_data[idx]))"
   ]
  },
  {
   "cell_type": "code",
   "execution_count": 22,
   "metadata": {
    "collapsed": true
   },
   "outputs": [],
   "source": [
    "from collections import defaultdict\n",
    "\n",
    "def numeric_gradient(f, fargs):\n",
    "    vals = values(f, fargs)\n",
    "    derivatives = defaultdict(int) # by default 0 is the derivative for unknown nodes.\n",
    "\n",
    "    gen = bfs(f, 1)\n",
    "    try:\n",
    "        n, in_grad = next(gen)\n",
    "        while True:\n",
    "            derivatives[n] += in_grad\n",
    "            local_grad = n.compute_gradient(vals)\n",
    "            n, in_grad = gen.send([l*in_grad for l in local_grad])\n",
    "    except StopIteration:\n",
    "        return derivatives"
   ]
  },
  {
   "cell_type": "code",
   "execution_count": 23,
   "metadata": {
    "collapsed": true
   },
   "outputs": [],
   "source": [
    "# Monkey patch for compute_gradient\n",
    "Symbol.compute_gradient = lambda self, values: [] # Nothing todo\n",
    "Constant.compute_gradient = lambda self, values: [] # Nothing todo\n",
    "\n",
    "Add.compute_gradient = lambda self, values: [1, 1] # dx+y/dx = 1, dx+y/dy = 1\n",
    "Mul.compute_gradient = lambda self, values: [values[self.children[1]], values[self.children[0]]] # dx*y/dx = y, dx*y/dy = x"
   ]
  },
  {
   "cell_type": "code",
   "execution_count": 24,
   "metadata": {
    "collapsed": false
   },
   "outputs": [
    {
     "data": {
      "text/plain": [
       "defaultdict(int, {y: 2, ((x+y)*x): 1, x: 7, (x+y): 2})"
      ]
     },
     "execution_count": 24,
     "metadata": {},
     "output_type": "execute_result"
    }
   ],
   "source": [
    "numeric_gradient(f, {x:2, y:3})"
   ]
  },
  {
   "cell_type": "code",
   "execution_count": 25,
   "metadata": {
    "collapsed": false
   },
   "outputs": [
    {
     "data": {
      "text/plain": [
       "defaultdict(int, {y: 6, (y*y): 1, ((x*x)+(y*y)): 1, (x*x): 1, x: 4})"
      ]
     },
     "execution_count": 25,
     "metadata": {},
     "output_type": "execute_result"
    }
   ],
   "source": [
    "numeric_gradient(x*x+y*y, {x:2, y:3})"
   ]
  },
  {
   "cell_type": "code",
   "execution_count": 26,
   "metadata": {
    "collapsed": false
   },
   "outputs": [
    {
     "data": {
      "text/plain": [
       "defaultdict(int,\n",
       "            {4: 125,\n",
       "             3: 175,\n",
       "             ((x+3)*(y+4)): 25,\n",
       "             (y+4): 125,\n",
       "             ((((x+3)*(y+4))*z)*z): 1,\n",
       "             y: 125,\n",
       "             (((x+3)*(y+4))*z): 5,\n",
       "             z: 350,\n",
       "             x: 175,\n",
       "             (x+3): 175})"
      ]
     },
     "execution_count": 26,
     "metadata": {},
     "output_type": "execute_result"
    }
   ],
   "source": [
    "z = Symbol('z')\n",
    "numeric_gradient((x+3)*(y+4)*z*z, {x:2, y:3, z:5})"
   ]
  },
  {
   "cell_type": "code",
   "execution_count": 27,
   "metadata": {
    "collapsed": true
   },
   "outputs": [],
   "source": [
    "def symbolic_gradient(f):\n",
    "    derivatives = defaultdict(lambda: Constant(0))\n",
    "    \n",
    "    gen = bfs(f, Constant(1))\n",
    "    try:\n",
    "        n, in_grad = next(gen) # Need to use edge info when expressions are reused!\n",
    "        while True:\n",
    "            derivatives[n] = derivatives[n] + in_grad\n",
    "            local_grad = n.symbolic_gradient()\n",
    "            n, in_grad = gen.send([l * in_grad for l in local_grad])\n",
    "    except StopIteration:\n",
    "        return derivatives"
   ]
  },
  {
   "cell_type": "code",
   "execution_count": 28,
   "metadata": {
    "collapsed": true
   },
   "outputs": [],
   "source": [
    "# Monkey patch for symbolic_gradient\n",
    "Symbol.symbolic_gradient = lambda self: [] # Nothing todo\n",
    "Constant.symbolic_gradient = lambda self: [] # Nothing todo\n",
    "\n",
    "Add.symbolic_gradient = lambda self: [Constant(1), Constant(1)] # dx+y/dx = 1, dx+y/dy = 1\n",
    "Mul.symbolic_gradient = lambda self: [self.children[1], self.children[0]] # dx*y/dx = y, dx*y/dy = x"
   ]
  },
  {
   "cell_type": "code",
   "execution_count": 29,
   "metadata": {
    "collapsed": false
   },
   "outputs": [
    {
     "data": {
      "text/plain": [
       "defaultdict(<function __main__.symbolic_gradient.<locals>.<lambda>>,\n",
       "            {y: (0+(1*(x*1))),\n",
       "             ((x+y)*x): (0+1),\n",
       "             x: ((0+((x+y)*1))+(1*(x*1))),\n",
       "             (x+y): (0+(x*1))})"
      ]
     },
     "execution_count": 29,
     "metadata": {},
     "output_type": "execute_result"
    }
   ],
   "source": [
    "symbolic_gradient(f)"
   ]
  },
  {
   "cell_type": "code",
   "execution_count": 30,
   "metadata": {
    "collapsed": false
   },
   "outputs": [
    {
     "name": "stdout",
     "output_type": "stream",
     "text": [
      "df/dx at (x=2,y=3) is 7\n",
      "df/dy at (x=2,y=3) is 2\n",
      "ddf/dxdx at (x=2,y=3) is 2\n",
      "ddf/dxdy at (x=2,y=3) is 1\n",
      "ddf/dydx at (x=2,y=3) is 1\n",
      "ddf/dydy at (x=2,y=3) is 0\n"
     ]
    }
   ],
   "source": [
    "d = symbolic_gradient(f)\n",
    "print('df/dx at (x=2,y=3) is {}'.format(value(d[x], {x:2, y:3})))\n",
    "print('df/dy at (x=2,y=3) is {}'.format(value(d[y], {x:2, y:3})))\n",
    "\n",
    "# Let's try second order derivatives\n",
    "ddx = symbolic_gradient(d[x])\n",
    "ddy = symbolic_gradient(d[y])\n",
    "print('ddf/dxdx at (x=2,y=3) is {}'.format(value(ddx[x], {x:2, y:3})))\n",
    "print('ddf/dxdy at (x=2,y=3) is {}'.format(value(ddx[y], {x:2, y:3})))\n",
    "print('ddf/dydx at (x=2,y=3) is {}'.format(value(ddy[x], {x:2, y:3})))\n",
    "print('ddf/dydy at (x=2,y=3) is {}'.format(value(ddy[y], {x:2, y:3})))"
   ]
  },
  {
   "cell_type": "code",
   "execution_count": 31,
   "metadata": {
    "collapsed": true
   },
   "outputs": [],
   "source": [
    "def applies_to(*klasses):\n",
    "    \"\"\"Decorates rule functions to match specific nodes in simplification.\"\"\"\n",
    "\n",
    "    def wrapper(func):\n",
    "        def wrapped_func(node):\n",
    "            if isinstance(node, klasses):\n",
    "                return func(node)\n",
    "            else:\n",
    "                return node\n",
    "        return wrapped_func\n",
    "    return wrapper"
   ]
  },
  {
   "cell_type": "code",
   "execution_count": 32,
   "metadata": {
    "collapsed": true
   },
   "outputs": [],
   "source": [
    "def is_const(node, value=None):\n",
    "    if isinstance(node, Constant):\n",
    "        if value is not None:\n",
    "            return node.value == value\n",
    "        else:\n",
    "            return True            \n",
    "    return False"
   ]
  },
  {
   "cell_type": "code",
   "execution_count": 33,
   "metadata": {
    "collapsed": true
   },
   "outputs": [],
   "source": [
    "@applies_to(Mul)\n",
    "def mul_identity_rule(node):\n",
    "    if is_const(node.children[0], 1):\n",
    "        return node.children[1]\n",
    "    elif is_const(node.children[1], 1):\n",
    "        return node.children[0]\n",
    "    else:\n",
    "        return node"
   ]
  },
  {
   "cell_type": "code",
   "execution_count": 34,
   "metadata": {
    "collapsed": true
   },
   "outputs": [],
   "source": [
    "import copy\n",
    "\n",
    "rules = [mul_identity_rule]\n",
    "def simplify(node):\n",
    "    \"\"\"Returns a simplified version of the forward graph associated with the given node.\"\"\"\n",
    "    \n",
    "    nodemap = {}\n",
    "    for n in postorder(node):\n",
    "        if isinstance(n, Symbol):\n",
    "            continue\n",
    "\n",
    "        nc = copy.copy(n)\n",
    "        for i in range(len(nc.children)):\n",
    "            c = nc.children[i]\n",
    "            nc.children[i] = nodemap.get(c, c)\n",
    "        for r in rules:\n",
    "            nc = r(nc)\n",
    "        nodemap[n] = nc\n",
    "        \n",
    "    return nodemap[node]"
   ]
  },
  {
   "cell_type": "code",
   "execution_count": 35,
   "metadata": {
    "collapsed": false
   },
   "outputs": [
    {
     "name": "stdout",
     "output_type": "stream",
     "text": [
      "((0+((x+y)*1))+(1*(x*1)))\n",
      "((0+(x+y))+x)\n"
     ]
    }
   ],
   "source": [
    "d = symbolic_gradient(f)\n",
    "print(d[x]) # Hardly readable\n",
    "print(simplify(d[x])) # A bit better"
   ]
  },
  {
   "cell_type": "code",
   "execution_count": 36,
   "metadata": {
    "collapsed": true
   },
   "outputs": [],
   "source": [
    "@applies_to(Add)\n",
    "def add_identity_rule(node):\n",
    "    if is_const(node.children[0], 0):\n",
    "        return node.children[1]\n",
    "    elif is_const(node.children[1], 0):\n",
    "        return node.children[0]\n",
    "    else:\n",
    "        return node\n",
    "    \n",
    "rules.append(add_identity_rule)"
   ]
  },
  {
   "cell_type": "code",
   "execution_count": 37,
   "metadata": {
    "collapsed": false
   },
   "outputs": [
    {
     "name": "stdout",
     "output_type": "stream",
     "text": [
      "((x+y)+x)\n"
     ]
    }
   ],
   "source": [
    "print(simplify(d[x])) # Even better"
   ]
  },
  {
   "cell_type": "code",
   "execution_count": 38,
   "metadata": {
    "collapsed": false
   },
   "outputs": [
    {
     "name": "stdout",
     "output_type": "stream",
     "text": [
      "(((((0+(1*1))+(1*(1*1)))+(1*(1*(1*1))))+(1*(1*(1*(1*1)))))+(1*(1*(1*(1*1)))))\n",
      "((((1+1)+1)+1)+1)\n"
     ]
    }
   ],
   "source": [
    "k = x + x + x + x + x\n",
    "d = symbolic_gradient(k)\n",
    "print(d[x])\n",
    "print(simplify(d[x]))"
   ]
  },
  {
   "cell_type": "markdown",
   "metadata": {},
   "source": [
    "As you can see $\\frac{\\mathrm{d}f(x,y)}{\\mathrm{d}x}\\Bigr|_{\\substack{x=2\\\\y=3}} = 7$ and $\\frac{\\mathrm{d}f(x,y)}{\\mathrm{d}y}\\Bigr|_{\\substack{x=2\\\\y=3}} = 2$. But the dictionary provides more, also the derivative w.r.t $(x+y)$ is given! Some more examples:"
   ]
  },
  {
   "cell_type": "markdown",
   "metadata": {},
   "source": [
    "Before diving into code, we need to cover the concept of [expression trees](https://en.wikipedia.org/wiki/Binary_expression_tree). Expression trees will be used to represent function decompositions in Python code to be developed. While there are not a fundamentally new concept they deserve some words at this point.\n",
    "\n",
    "An expression tree is similar to the computational graphs introduced, but the arrows by default point backwards. It turns out that constructing function expression in a tree like manner (top node is the function itself, function parameters are leafs) simplifies development dramatically.\n",
    "\n",
    "Take the CG of the toy example used $f(x,y)=(x+y)x$\n",
    "\n",
    "<img src=\"intro_0.png\" width=\"400\">\n",
    "\n",
    "The following expression tree represents the same function\n",
    "\n",
    "<img src=\"exp_tree.png\" width=\"400\">\n",
    "\n",
    "Notice that we now have a tree like structure. Our root node is the final operation to be executed to receive the result of $f(x,y)$. Also notice that $x$ shows up twice. Finding the value of an expression tree requires to compute values for nodes in lower layers first and bubble information up towards the root node. Backpropagation on the other hand ist just a matter of following the forward edges. Again, when computing derivatives, a summation over all paths from the top that lead to a given node will be performed.\n"
   ]
  }
 ],
 "metadata": {
  "anaconda-cloud": {},
  "kernelspec": {
   "display_name": "Python [conda root]",
   "language": "python",
   "name": "conda-root-py"
  },
  "language_info": {
   "codemirror_mode": {
    "name": "ipython",
    "version": 3
   },
   "file_extension": ".py",
   "mimetype": "text/x-python",
   "name": "python",
   "nbconvert_exporter": "python",
   "pygments_lexer": "ipython3",
   "version": "3.5.2"
  }
 },
 "nbformat": 4,
 "nbformat_minor": 1
}
